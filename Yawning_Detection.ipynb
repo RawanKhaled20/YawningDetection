{
  "metadata": {
    "kernelspec": {
      "display_name": "Python 3",
      "name": "python3"
    },
    "language_info": {
      "name": "python",
      "version": "3.6.6",
      "mimetype": "text/x-python",
      "codemirror_mode": {
        "name": "ipython",
        "version": 3
      },
      "pygments_lexer": "ipython3",
      "nbconvert_exporter": "python",
      "file_extension": ".py"
    },
    "kaggle": {
      "accelerator": "gpu",
      "dataSources": [
        {
          "sourceId": 127160,
          "sourceType": "datasetVersion",
          "datasetId": 64677
        }
      ],
      "dockerImageVersionId": 29869,
      "isInternetEnabled": false,
      "language": "python",
      "sourceType": "notebook",
      "isGpuEnabled": true
    },
    "colab": {
      "provenance": [],
      "gpuType": "T4",
      "include_colab_link": true
    },
    "accelerator": "GPU"
  },
  "nbformat_minor": 0,
  "nbformat": 4,
  "cells": [
    {
      "cell_type": "markdown",
      "metadata": {
        "id": "view-in-github",
        "colab_type": "text"
      },
      "source": [
        "<a href=\"https://colab.research.google.com/github/RawanKhaled20/YawningDetection/blob/main/Yawning_Detection.ipynb\" target=\"_parent\"><img src=\"https://colab.research.google.com/assets/colab-badge.svg\" alt=\"Open In Colab\"/></a>"
      ]
    },
    {
      "cell_type": "code",
      "source": [
        "!pip install -q kaggle"
      ],
      "metadata": {
        "_uuid": "8f2839f25d086af736a60e9eeb907d3b93b6e0e5",
        "_cell_guid": "b1076dfc-b9ad-4769-8c92-a6c4dae69d19",
        "execution": {
          "iopub.status.busy": "2024-01-27T17:23:27.293177Z",
          "iopub.execute_input": "2024-01-27T17:23:27.293465Z",
          "iopub.status.idle": "2024-01-27T17:23:27.822288Z",
          "shell.execute_reply.started": "2024-01-27T17:23:27.293432Z",
          "shell.execute_reply": "2024-01-27T17:23:27.821494Z"
        },
        "trusted": true,
        "id": "OnsNziTZCLlI"
      },
      "execution_count": null,
      "outputs": []
    },
    {
      "cell_type": "code",
      "source": [
        "from google.colab import files\n",
        "files.upload()"
      ],
      "metadata": {
        "colab": {
          "base_uri": "https://localhost:8080/",
          "height": 92
        },
        "id": "Qfr0xrGFCZ43",
        "outputId": "a74514de-0c95-46ea-ed23-56bd0d8a3515"
      },
      "execution_count": null,
      "outputs": [
        {
          "output_type": "display_data",
          "data": {
            "text/plain": [
              "<IPython.core.display.HTML object>"
            ],
            "text/html": [
              "\n",
              "     <input type=\"file\" id=\"files-bef23b08-7be6-47c2-bea2-6b9d83f58237\" name=\"files[]\" multiple disabled\n",
              "        style=\"border:none\" />\n",
              "     <output id=\"result-bef23b08-7be6-47c2-bea2-6b9d83f58237\">\n",
              "      Upload widget is only available when the cell has been executed in the\n",
              "      current browser session. Please rerun this cell to enable.\n",
              "      </output>\n",
              "      <script>// Copyright 2017 Google LLC\n",
              "//\n",
              "// Licensed under the Apache License, Version 2.0 (the \"License\");\n",
              "// you may not use this file except in compliance with the License.\n",
              "// You may obtain a copy of the License at\n",
              "//\n",
              "//      http://www.apache.org/licenses/LICENSE-2.0\n",
              "//\n",
              "// Unless required by applicable law or agreed to in writing, software\n",
              "// distributed under the License is distributed on an \"AS IS\" BASIS,\n",
              "// WITHOUT WARRANTIES OR CONDITIONS OF ANY KIND, either express or implied.\n",
              "// See the License for the specific language governing permissions and\n",
              "// limitations under the License.\n",
              "\n",
              "/**\n",
              " * @fileoverview Helpers for google.colab Python module.\n",
              " */\n",
              "(function(scope) {\n",
              "function span(text, styleAttributes = {}) {\n",
              "  const element = document.createElement('span');\n",
              "  element.textContent = text;\n",
              "  for (const key of Object.keys(styleAttributes)) {\n",
              "    element.style[key] = styleAttributes[key];\n",
              "  }\n",
              "  return element;\n",
              "}\n",
              "\n",
              "// Max number of bytes which will be uploaded at a time.\n",
              "const MAX_PAYLOAD_SIZE = 100 * 1024;\n",
              "\n",
              "function _uploadFiles(inputId, outputId) {\n",
              "  const steps = uploadFilesStep(inputId, outputId);\n",
              "  const outputElement = document.getElementById(outputId);\n",
              "  // Cache steps on the outputElement to make it available for the next call\n",
              "  // to uploadFilesContinue from Python.\n",
              "  outputElement.steps = steps;\n",
              "\n",
              "  return _uploadFilesContinue(outputId);\n",
              "}\n",
              "\n",
              "// This is roughly an async generator (not supported in the browser yet),\n",
              "// where there are multiple asynchronous steps and the Python side is going\n",
              "// to poll for completion of each step.\n",
              "// This uses a Promise to block the python side on completion of each step,\n",
              "// then passes the result of the previous step as the input to the next step.\n",
              "function _uploadFilesContinue(outputId) {\n",
              "  const outputElement = document.getElementById(outputId);\n",
              "  const steps = outputElement.steps;\n",
              "\n",
              "  const next = steps.next(outputElement.lastPromiseValue);\n",
              "  return Promise.resolve(next.value.promise).then((value) => {\n",
              "    // Cache the last promise value to make it available to the next\n",
              "    // step of the generator.\n",
              "    outputElement.lastPromiseValue = value;\n",
              "    return next.value.response;\n",
              "  });\n",
              "}\n",
              "\n",
              "/**\n",
              " * Generator function which is called between each async step of the upload\n",
              " * process.\n",
              " * @param {string} inputId Element ID of the input file picker element.\n",
              " * @param {string} outputId Element ID of the output display.\n",
              " * @return {!Iterable<!Object>} Iterable of next steps.\n",
              " */\n",
              "function* uploadFilesStep(inputId, outputId) {\n",
              "  const inputElement = document.getElementById(inputId);\n",
              "  inputElement.disabled = false;\n",
              "\n",
              "  const outputElement = document.getElementById(outputId);\n",
              "  outputElement.innerHTML = '';\n",
              "\n",
              "  const pickedPromise = new Promise((resolve) => {\n",
              "    inputElement.addEventListener('change', (e) => {\n",
              "      resolve(e.target.files);\n",
              "    });\n",
              "  });\n",
              "\n",
              "  const cancel = document.createElement('button');\n",
              "  inputElement.parentElement.appendChild(cancel);\n",
              "  cancel.textContent = 'Cancel upload';\n",
              "  const cancelPromise = new Promise((resolve) => {\n",
              "    cancel.onclick = () => {\n",
              "      resolve(null);\n",
              "    };\n",
              "  });\n",
              "\n",
              "  // Wait for the user to pick the files.\n",
              "  const files = yield {\n",
              "    promise: Promise.race([pickedPromise, cancelPromise]),\n",
              "    response: {\n",
              "      action: 'starting',\n",
              "    }\n",
              "  };\n",
              "\n",
              "  cancel.remove();\n",
              "\n",
              "  // Disable the input element since further picks are not allowed.\n",
              "  inputElement.disabled = true;\n",
              "\n",
              "  if (!files) {\n",
              "    return {\n",
              "      response: {\n",
              "        action: 'complete',\n",
              "      }\n",
              "    };\n",
              "  }\n",
              "\n",
              "  for (const file of files) {\n",
              "    const li = document.createElement('li');\n",
              "    li.append(span(file.name, {fontWeight: 'bold'}));\n",
              "    li.append(span(\n",
              "        `(${file.type || 'n/a'}) - ${file.size} bytes, ` +\n",
              "        `last modified: ${\n",
              "            file.lastModifiedDate ? file.lastModifiedDate.toLocaleDateString() :\n",
              "                                    'n/a'} - `));\n",
              "    const percent = span('0% done');\n",
              "    li.appendChild(percent);\n",
              "\n",
              "    outputElement.appendChild(li);\n",
              "\n",
              "    const fileDataPromise = new Promise((resolve) => {\n",
              "      const reader = new FileReader();\n",
              "      reader.onload = (e) => {\n",
              "        resolve(e.target.result);\n",
              "      };\n",
              "      reader.readAsArrayBuffer(file);\n",
              "    });\n",
              "    // Wait for the data to be ready.\n",
              "    let fileData = yield {\n",
              "      promise: fileDataPromise,\n",
              "      response: {\n",
              "        action: 'continue',\n",
              "      }\n",
              "    };\n",
              "\n",
              "    // Use a chunked sending to avoid message size limits. See b/62115660.\n",
              "    let position = 0;\n",
              "    do {\n",
              "      const length = Math.min(fileData.byteLength - position, MAX_PAYLOAD_SIZE);\n",
              "      const chunk = new Uint8Array(fileData, position, length);\n",
              "      position += length;\n",
              "\n",
              "      const base64 = btoa(String.fromCharCode.apply(null, chunk));\n",
              "      yield {\n",
              "        response: {\n",
              "          action: 'append',\n",
              "          file: file.name,\n",
              "          data: base64,\n",
              "        },\n",
              "      };\n",
              "\n",
              "      let percentDone = fileData.byteLength === 0 ?\n",
              "          100 :\n",
              "          Math.round((position / fileData.byteLength) * 100);\n",
              "      percent.textContent = `${percentDone}% done`;\n",
              "\n",
              "    } while (position < fileData.byteLength);\n",
              "  }\n",
              "\n",
              "  // All done.\n",
              "  yield {\n",
              "    response: {\n",
              "      action: 'complete',\n",
              "    }\n",
              "  };\n",
              "}\n",
              "\n",
              "scope.google = scope.google || {};\n",
              "scope.google.colab = scope.google.colab || {};\n",
              "scope.google.colab._files = {\n",
              "  _uploadFiles,\n",
              "  _uploadFilesContinue,\n",
              "};\n",
              "})(self);\n",
              "</script> "
            ]
          },
          "metadata": {}
        },
        {
          "output_type": "stream",
          "name": "stdout",
          "text": [
            "Saving kaggle.json to kaggle.json\n"
          ]
        },
        {
          "output_type": "execute_result",
          "data": {
            "text/plain": [
              "{'kaggle.json': b'{\"username\":\"rawankhaled20\",\"key\":\"f5a17aecb67ca4675b425dadbe4ab60e\"}'}"
            ]
          },
          "metadata": {},
          "execution_count": 2
        }
      ]
    },
    {
      "cell_type": "code",
      "source": [
        "!mkdir -p ~/.kaggle"
      ],
      "metadata": {
        "id": "Lo0EPaC8CcGj"
      },
      "execution_count": null,
      "outputs": []
    },
    {
      "cell_type": "code",
      "source": [
        "!cp kaggle.json ~/.kaggle/"
      ],
      "metadata": {
        "id": "R3q0fUeQCd5Q"
      },
      "execution_count": null,
      "outputs": []
    },
    {
      "cell_type": "code",
      "source": [
        "!kaggle datasets download -d gauravduttakiit/detectyawning"
      ],
      "metadata": {
        "colab": {
          "base_uri": "https://localhost:8080/"
        },
        "id": "EmpwnvKCCh3m",
        "outputId": "b89e8b1d-df85-4e47-961d-b6d7653edea9"
      },
      "execution_count": null,
      "outputs": [
        {
          "output_type": "stream",
          "name": "stdout",
          "text": [
            "Warning: Your Kaggle API key is readable by other users on this system! To fix this, you can run 'chmod 600 /root/.kaggle/kaggle.json'\n",
            "Downloading detectyawning.zip to /content\n",
            " 79% 30.0M/38.0M [00:00<00:00, 134MB/s] \n",
            "100% 38.0M/38.0M [00:00<00:00, 69.7MB/s]\n"
          ]
        }
      ]
    },
    {
      "cell_type": "code",
      "source": [
        "! unzip detectyawning.zip"
      ],
      "metadata": {
        "id": "qISg4cOqCflw"
      },
      "execution_count": null,
      "outputs": []
    },
    {
      "cell_type": "code",
      "source": [
        "!pip install scikit-plot\n",
        "\n",
        "import math\n",
        "import numpy as np\n",
        "import pandas as pd\n",
        "\n",
        "import scikitplot\n",
        "import seaborn as sns\n",
        "from matplotlib import pyplot\n",
        "\n",
        "from sklearn.model_selection import train_test_split\n",
        "from sklearn.preprocessing import LabelEncoder\n",
        "from sklearn.metrics import classification_report\n",
        "\n",
        "import tensorflow as tf\n",
        "from tensorflow.keras import optimizers\n",
        "from tensorflow.keras.datasets import mnist\n",
        "from tensorflow.keras.models import Sequential\n",
        "from tensorflow.keras.layers import Flatten, Dense, Conv2D, MaxPooling2D\n",
        "from tensorflow.keras.layers import Dropout, BatchNormalization, LeakyReLU, Activation\n",
        "from tensorflow.keras.callbacks import Callback, EarlyStopping, ReduceLROnPlateau\n",
        "from tensorflow.keras.preprocessing.image import ImageDataGenerator"
      ],
      "metadata": {
        "_uuid": "d629ff2d2480ee46fbb7e2d37f6b5fab8052498a",
        "_cell_guid": "79c7e3d0-c299-4dcb-8224-4455121ee9b0",
        "execution": {
          "iopub.status.busy": "2024-01-27T17:23:27.824355Z",
          "iopub.execute_input": "2024-01-27T17:23:27.824611Z",
          "iopub.status.idle": "2024-01-27T17:23:34.464981Z",
          "shell.execute_reply.started": "2024-01-27T17:23:27.824582Z",
          "shell.execute_reply": "2024-01-27T17:23:34.464035Z"
        },
        "trusted": true,
        "colab": {
          "base_uri": "https://localhost:8080/"
        },
        "id": "9Vie1s09CLlK",
        "outputId": "5a03da68-62c1-40a9-a706-bdb6e3b09b9b"
      },
      "execution_count": null,
      "outputs": [
        {
          "output_type": "stream",
          "name": "stdout",
          "text": [
            "Collecting scikit-plot\n",
            "  Downloading scikit_plot-0.3.7-py3-none-any.whl (33 kB)\n",
            "Requirement already satisfied: matplotlib>=1.4.0 in /usr/local/lib/python3.10/dist-packages (from scikit-plot) (3.7.1)\n",
            "Requirement already satisfied: scikit-learn>=0.18 in /usr/local/lib/python3.10/dist-packages (from scikit-plot) (1.2.2)\n",
            "Requirement already satisfied: scipy>=0.9 in /usr/local/lib/python3.10/dist-packages (from scikit-plot) (1.11.4)\n",
            "Requirement already satisfied: joblib>=0.10 in /usr/local/lib/python3.10/dist-packages (from scikit-plot) (1.3.2)\n",
            "Requirement already satisfied: contourpy>=1.0.1 in /usr/local/lib/python3.10/dist-packages (from matplotlib>=1.4.0->scikit-plot) (1.2.0)\n",
            "Requirement already satisfied: cycler>=0.10 in /usr/local/lib/python3.10/dist-packages (from matplotlib>=1.4.0->scikit-plot) (0.12.1)\n",
            "Requirement already satisfied: fonttools>=4.22.0 in /usr/local/lib/python3.10/dist-packages (from matplotlib>=1.4.0->scikit-plot) (4.47.2)\n",
            "Requirement already satisfied: kiwisolver>=1.0.1 in /usr/local/lib/python3.10/dist-packages (from matplotlib>=1.4.0->scikit-plot) (1.4.5)\n",
            "Requirement already satisfied: numpy>=1.20 in /usr/local/lib/python3.10/dist-packages (from matplotlib>=1.4.0->scikit-plot) (1.23.5)\n",
            "Requirement already satisfied: packaging>=20.0 in /usr/local/lib/python3.10/dist-packages (from matplotlib>=1.4.0->scikit-plot) (23.2)\n",
            "Requirement already satisfied: pillow>=6.2.0 in /usr/local/lib/python3.10/dist-packages (from matplotlib>=1.4.0->scikit-plot) (9.4.0)\n",
            "Requirement already satisfied: pyparsing>=2.3.1 in /usr/local/lib/python3.10/dist-packages (from matplotlib>=1.4.0->scikit-plot) (3.1.1)\n",
            "Requirement already satisfied: python-dateutil>=2.7 in /usr/local/lib/python3.10/dist-packages (from matplotlib>=1.4.0->scikit-plot) (2.8.2)\n",
            "Requirement already satisfied: threadpoolctl>=2.0.0 in /usr/local/lib/python3.10/dist-packages (from scikit-learn>=0.18->scikit-plot) (3.2.0)\n",
            "Requirement already satisfied: six>=1.5 in /usr/local/lib/python3.10/dist-packages (from python-dateutil>=2.7->matplotlib>=1.4.0->scikit-plot) (1.16.0)\n",
            "Installing collected packages: scikit-plot\n",
            "Successfully installed scikit-plot-0.3.7\n"
          ]
        }
      ]
    },
    {
      "cell_type": "code",
      "source": [
        "df = pd.read_csv('/content/train.csv')\n",
        "print(df.shape)\n",
        "df.head()"
      ],
      "metadata": {
        "execution": {
          "iopub.status.busy": "2024-01-27T17:23:34.466579Z",
          "iopub.execute_input": "2024-01-27T17:23:34.466892Z",
          "iopub.status.idle": "2024-01-27T17:23:39.661481Z",
          "shell.execute_reply.started": "2024-01-27T17:23:34.466853Z",
          "shell.execute_reply": "2024-01-27T17:23:39.660578Z"
        },
        "trusted": true,
        "colab": {
          "base_uri": "https://localhost:8080/",
          "height": 224
        },
        "id": "USAaLae6CLlK",
        "outputId": "695eedf7-2a59-4f6c-b2bb-a3cd93bc32b0"
      },
      "execution_count": null,
      "outputs": [
        {
          "output_type": "stream",
          "name": "stdout",
          "text": [
            "(5242, 2)\n"
          ]
        },
        {
          "output_type": "execute_result",
          "data": {
            "text/plain": [
              "                   image_id  label\n",
              "0   train\\123456 (3565).jpg      1\n",
              "1  train\\1234567 (2741).jpg      0\n",
              "2   train\\123456 (2705).jpg      1\n",
              "3   train\\123456 (1319).jpg      1\n",
              "4  train\\1234567 (2215).jpg      0"
            ],
            "text/html": [
              "\n",
              "  <div id=\"df-4849427d-9d25-4481-bc2a-6b020b197637\" class=\"colab-df-container\">\n",
              "    <div>\n",
              "<style scoped>\n",
              "    .dataframe tbody tr th:only-of-type {\n",
              "        vertical-align: middle;\n",
              "    }\n",
              "\n",
              "    .dataframe tbody tr th {\n",
              "        vertical-align: top;\n",
              "    }\n",
              "\n",
              "    .dataframe thead th {\n",
              "        text-align: right;\n",
              "    }\n",
              "</style>\n",
              "<table border=\"1\" class=\"dataframe\">\n",
              "  <thead>\n",
              "    <tr style=\"text-align: right;\">\n",
              "      <th></th>\n",
              "      <th>image_id</th>\n",
              "      <th>label</th>\n",
              "    </tr>\n",
              "  </thead>\n",
              "  <tbody>\n",
              "    <tr>\n",
              "      <th>0</th>\n",
              "      <td>train\\123456 (3565).jpg</td>\n",
              "      <td>1</td>\n",
              "    </tr>\n",
              "    <tr>\n",
              "      <th>1</th>\n",
              "      <td>train\\1234567 (2741).jpg</td>\n",
              "      <td>0</td>\n",
              "    </tr>\n",
              "    <tr>\n",
              "      <th>2</th>\n",
              "      <td>train\\123456 (2705).jpg</td>\n",
              "      <td>1</td>\n",
              "    </tr>\n",
              "    <tr>\n",
              "      <th>3</th>\n",
              "      <td>train\\123456 (1319).jpg</td>\n",
              "      <td>1</td>\n",
              "    </tr>\n",
              "    <tr>\n",
              "      <th>4</th>\n",
              "      <td>train\\1234567 (2215).jpg</td>\n",
              "      <td>0</td>\n",
              "    </tr>\n",
              "  </tbody>\n",
              "</table>\n",
              "</div>\n",
              "    <div class=\"colab-df-buttons\">\n",
              "\n",
              "  <div class=\"colab-df-container\">\n",
              "    <button class=\"colab-df-convert\" onclick=\"convertToInteractive('df-4849427d-9d25-4481-bc2a-6b020b197637')\"\n",
              "            title=\"Convert this dataframe to an interactive table.\"\n",
              "            style=\"display:none;\">\n",
              "\n",
              "  <svg xmlns=\"http://www.w3.org/2000/svg\" height=\"24px\" viewBox=\"0 -960 960 960\">\n",
              "    <path d=\"M120-120v-720h720v720H120Zm60-500h600v-160H180v160Zm220 220h160v-160H400v160Zm0 220h160v-160H400v160ZM180-400h160v-160H180v160Zm440 0h160v-160H620v160ZM180-180h160v-160H180v160Zm440 0h160v-160H620v160Z\"/>\n",
              "  </svg>\n",
              "    </button>\n",
              "\n",
              "  <style>\n",
              "    .colab-df-container {\n",
              "      display:flex;\n",
              "      gap: 12px;\n",
              "    }\n",
              "\n",
              "    .colab-df-convert {\n",
              "      background-color: #E8F0FE;\n",
              "      border: none;\n",
              "      border-radius: 50%;\n",
              "      cursor: pointer;\n",
              "      display: none;\n",
              "      fill: #1967D2;\n",
              "      height: 32px;\n",
              "      padding: 0 0 0 0;\n",
              "      width: 32px;\n",
              "    }\n",
              "\n",
              "    .colab-df-convert:hover {\n",
              "      background-color: #E2EBFA;\n",
              "      box-shadow: 0px 1px 2px rgba(60, 64, 67, 0.3), 0px 1px 3px 1px rgba(60, 64, 67, 0.15);\n",
              "      fill: #174EA6;\n",
              "    }\n",
              "\n",
              "    .colab-df-buttons div {\n",
              "      margin-bottom: 4px;\n",
              "    }\n",
              "\n",
              "    [theme=dark] .colab-df-convert {\n",
              "      background-color: #3B4455;\n",
              "      fill: #D2E3FC;\n",
              "    }\n",
              "\n",
              "    [theme=dark] .colab-df-convert:hover {\n",
              "      background-color: #434B5C;\n",
              "      box-shadow: 0px 1px 3px 1px rgba(0, 0, 0, 0.15);\n",
              "      filter: drop-shadow(0px 1px 2px rgba(0, 0, 0, 0.3));\n",
              "      fill: #FFFFFF;\n",
              "    }\n",
              "  </style>\n",
              "\n",
              "    <script>\n",
              "      const buttonEl =\n",
              "        document.querySelector('#df-4849427d-9d25-4481-bc2a-6b020b197637 button.colab-df-convert');\n",
              "      buttonEl.style.display =\n",
              "        google.colab.kernel.accessAllowed ? 'block' : 'none';\n",
              "\n",
              "      async function convertToInteractive(key) {\n",
              "        const element = document.querySelector('#df-4849427d-9d25-4481-bc2a-6b020b197637');\n",
              "        const dataTable =\n",
              "          await google.colab.kernel.invokeFunction('convertToInteractive',\n",
              "                                                    [key], {});\n",
              "        if (!dataTable) return;\n",
              "\n",
              "        const docLinkHtml = 'Like what you see? Visit the ' +\n",
              "          '<a target=\"_blank\" href=https://colab.research.google.com/notebooks/data_table.ipynb>data table notebook</a>'\n",
              "          + ' to learn more about interactive tables.';\n",
              "        element.innerHTML = '';\n",
              "        dataTable['output_type'] = 'display_data';\n",
              "        await google.colab.output.renderOutput(dataTable, element);\n",
              "        const docLink = document.createElement('div');\n",
              "        docLink.innerHTML = docLinkHtml;\n",
              "        element.appendChild(docLink);\n",
              "      }\n",
              "    </script>\n",
              "  </div>\n",
              "\n",
              "\n",
              "<div id=\"df-0abb6b4c-a616-47c8-bc68-fa56e6425c99\">\n",
              "  <button class=\"colab-df-quickchart\" onclick=\"quickchart('df-0abb6b4c-a616-47c8-bc68-fa56e6425c99')\"\n",
              "            title=\"Suggest charts\"\n",
              "            style=\"display:none;\">\n",
              "\n",
              "<svg xmlns=\"http://www.w3.org/2000/svg\" height=\"24px\"viewBox=\"0 0 24 24\"\n",
              "     width=\"24px\">\n",
              "    <g>\n",
              "        <path d=\"M19 3H5c-1.1 0-2 .9-2 2v14c0 1.1.9 2 2 2h14c1.1 0 2-.9 2-2V5c0-1.1-.9-2-2-2zM9 17H7v-7h2v7zm4 0h-2V7h2v10zm4 0h-2v-4h2v4z\"/>\n",
              "    </g>\n",
              "</svg>\n",
              "  </button>\n",
              "\n",
              "<style>\n",
              "  .colab-df-quickchart {\n",
              "      --bg-color: #E8F0FE;\n",
              "      --fill-color: #1967D2;\n",
              "      --hover-bg-color: #E2EBFA;\n",
              "      --hover-fill-color: #174EA6;\n",
              "      --disabled-fill-color: #AAA;\n",
              "      --disabled-bg-color: #DDD;\n",
              "  }\n",
              "\n",
              "  [theme=dark] .colab-df-quickchart {\n",
              "      --bg-color: #3B4455;\n",
              "      --fill-color: #D2E3FC;\n",
              "      --hover-bg-color: #434B5C;\n",
              "      --hover-fill-color: #FFFFFF;\n",
              "      --disabled-bg-color: #3B4455;\n",
              "      --disabled-fill-color: #666;\n",
              "  }\n",
              "\n",
              "  .colab-df-quickchart {\n",
              "    background-color: var(--bg-color);\n",
              "    border: none;\n",
              "    border-radius: 50%;\n",
              "    cursor: pointer;\n",
              "    display: none;\n",
              "    fill: var(--fill-color);\n",
              "    height: 32px;\n",
              "    padding: 0;\n",
              "    width: 32px;\n",
              "  }\n",
              "\n",
              "  .colab-df-quickchart:hover {\n",
              "    background-color: var(--hover-bg-color);\n",
              "    box-shadow: 0 1px 2px rgba(60, 64, 67, 0.3), 0 1px 3px 1px rgba(60, 64, 67, 0.15);\n",
              "    fill: var(--button-hover-fill-color);\n",
              "  }\n",
              "\n",
              "  .colab-df-quickchart-complete:disabled,\n",
              "  .colab-df-quickchart-complete:disabled:hover {\n",
              "    background-color: var(--disabled-bg-color);\n",
              "    fill: var(--disabled-fill-color);\n",
              "    box-shadow: none;\n",
              "  }\n",
              "\n",
              "  .colab-df-spinner {\n",
              "    border: 2px solid var(--fill-color);\n",
              "    border-color: transparent;\n",
              "    border-bottom-color: var(--fill-color);\n",
              "    animation:\n",
              "      spin 1s steps(1) infinite;\n",
              "  }\n",
              "\n",
              "  @keyframes spin {\n",
              "    0% {\n",
              "      border-color: transparent;\n",
              "      border-bottom-color: var(--fill-color);\n",
              "      border-left-color: var(--fill-color);\n",
              "    }\n",
              "    20% {\n",
              "      border-color: transparent;\n",
              "      border-left-color: var(--fill-color);\n",
              "      border-top-color: var(--fill-color);\n",
              "    }\n",
              "    30% {\n",
              "      border-color: transparent;\n",
              "      border-left-color: var(--fill-color);\n",
              "      border-top-color: var(--fill-color);\n",
              "      border-right-color: var(--fill-color);\n",
              "    }\n",
              "    40% {\n",
              "      border-color: transparent;\n",
              "      border-right-color: var(--fill-color);\n",
              "      border-top-color: var(--fill-color);\n",
              "    }\n",
              "    60% {\n",
              "      border-color: transparent;\n",
              "      border-right-color: var(--fill-color);\n",
              "    }\n",
              "    80% {\n",
              "      border-color: transparent;\n",
              "      border-right-color: var(--fill-color);\n",
              "      border-bottom-color: var(--fill-color);\n",
              "    }\n",
              "    90% {\n",
              "      border-color: transparent;\n",
              "      border-bottom-color: var(--fill-color);\n",
              "    }\n",
              "  }\n",
              "</style>\n",
              "\n",
              "  <script>\n",
              "    async function quickchart(key) {\n",
              "      const quickchartButtonEl =\n",
              "        document.querySelector('#' + key + ' button');\n",
              "      quickchartButtonEl.disabled = true;  // To prevent multiple clicks.\n",
              "      quickchartButtonEl.classList.add('colab-df-spinner');\n",
              "      try {\n",
              "        const charts = await google.colab.kernel.invokeFunction(\n",
              "            'suggestCharts', [key], {});\n",
              "      } catch (error) {\n",
              "        console.error('Error during call to suggestCharts:', error);\n",
              "      }\n",
              "      quickchartButtonEl.classList.remove('colab-df-spinner');\n",
              "      quickchartButtonEl.classList.add('colab-df-quickchart-complete');\n",
              "    }\n",
              "    (() => {\n",
              "      let quickchartButtonEl =\n",
              "        document.querySelector('#df-0abb6b4c-a616-47c8-bc68-fa56e6425c99 button');\n",
              "      quickchartButtonEl.style.display =\n",
              "        google.colab.kernel.accessAllowed ? 'block' : 'none';\n",
              "    })();\n",
              "  </script>\n",
              "</div>\n",
              "\n",
              "    </div>\n",
              "  </div>\n"
            ]
          },
          "metadata": {},
          "execution_count": 64
        }
      ]
    },
    {
      "cell_type": "code",
      "source": [
        "df.label.unique()"
      ],
      "metadata": {
        "execution": {
          "iopub.status.busy": "2024-01-27T17:23:39.662748Z",
          "iopub.execute_input": "2024-01-27T17:23:39.662983Z",
          "iopub.status.idle": "2024-01-27T17:23:39.671350Z",
          "shell.execute_reply.started": "2024-01-27T17:23:39.662957Z",
          "shell.execute_reply": "2024-01-27T17:23:39.670456Z"
        },
        "trusted": true,
        "colab": {
          "base_uri": "https://localhost:8080/"
        },
        "id": "gSTnVlgVCLlL",
        "outputId": "cccdb34b-eb95-4dc4-97d4-9693ec65c923"
      },
      "execution_count": null,
      "outputs": [
        {
          "output_type": "execute_result",
          "data": {
            "text/plain": [
              "array([1, 0])"
            ]
          },
          "metadata": {},
          "execution_count": 9
        }
      ]
    },
    {
      "cell_type": "code",
      "source": [
        "emotion_label_to_text = {0:'Yawn', 1:'No_yawn'}"
      ],
      "metadata": {
        "execution": {
          "iopub.status.busy": "2024-01-27T17:23:39.674327Z",
          "iopub.execute_input": "2024-01-27T17:23:39.674588Z",
          "iopub.status.idle": "2024-01-27T17:23:39.684008Z",
          "shell.execute_reply.started": "2024-01-27T17:23:39.674562Z",
          "shell.execute_reply": "2024-01-27T17:23:39.683315Z"
        },
        "trusted": true,
        "id": "kkAMTpctCLlL"
      },
      "execution_count": null,
      "outputs": []
    },
    {
      "cell_type": "code",
      "source": [
        "df.label.value_counts()"
      ],
      "metadata": {
        "execution": {
          "iopub.status.busy": "2024-01-27T17:23:39.687205Z",
          "iopub.execute_input": "2024-01-27T17:23:39.687598Z",
          "iopub.status.idle": "2024-01-27T17:23:39.698398Z",
          "shell.execute_reply.started": "2024-01-27T17:23:39.687550Z",
          "shell.execute_reply": "2024-01-27T17:23:39.697451Z"
        },
        "trusted": true,
        "colab": {
          "base_uri": "https://localhost:8080/"
        },
        "id": "5Ovjp-HVCLlL",
        "outputId": "5b727a55-372d-4c22-c46e-33cadbbeed7c"
      },
      "execution_count": null,
      "outputs": [
        {
          "output_type": "execute_result",
          "data": {
            "text/plain": [
              "0    2692\n",
              "1    2550\n",
              "Name: label, dtype: int64"
            ]
          },
          "metadata": {},
          "execution_count": 11
        }
      ]
    },
    {
      "cell_type": "code",
      "source": [
        "sns.countplot(df.label)\n",
        "pyplot.show()"
      ],
      "metadata": {
        "execution": {
          "iopub.status.busy": "2024-01-27T17:23:39.699623Z",
          "iopub.execute_input": "2024-01-27T17:23:39.699850Z",
          "iopub.status.idle": "2024-01-27T17:23:39.856294Z",
          "shell.execute_reply.started": "2024-01-27T17:23:39.699824Z",
          "shell.execute_reply": "2024-01-27T17:23:39.855527Z"
        },
        "trusted": true,
        "colab": {
          "base_uri": "https://localhost:8080/",
          "height": 430
        },
        "id": "Ya6W65O7CLlL",
        "outputId": "44960134-a34a-4904-9ed5-e1595a0ca328"
      },
      "execution_count": null,
      "outputs": [
        {
          "output_type": "display_data",
          "data": {
            "text/plain": [
              "<Figure size 640x480 with 1 Axes>"
            ],
            "image/png": "[encoded data removed]"
          },
          "metadata": {}
        }
      ]
    },
    {
      "cell_type": "markdown",
      "source": [
        "`So majority classes belongs to 3:Happy, 4:Sad and 6:Neutral nd we are also intersted in these three classes only.`"
      ],
      "metadata": {
        "id": "QiDUOsfiCLlL"
      }
    },
    {
      "cell_type": "code",
      "source": [
        "math.sqrt(len(df.image_id[0].split(' ')))"
      ],
      "metadata": {
        "execution": {
          "iopub.status.busy": "2024-01-27T17:23:39.857706Z",
          "iopub.execute_input": "2024-01-27T17:23:39.858010Z",
          "iopub.status.idle": "2024-01-27T17:23:39.864777Z",
          "shell.execute_reply.started": "2024-01-27T17:23:39.857972Z",
          "shell.execute_reply": "2024-01-27T17:23:39.864113Z"
        },
        "trusted": true,
        "colab": {
          "base_uri": "https://localhost:8080/"
        },
        "id": "Iub_YtRzCLlM",
        "outputId": "ef28e075-af4d-4a00-e0e3-abe86e9220a8"
      },
      "execution_count": null,
      "outputs": [
        {
          "output_type": "execute_result",
          "data": {
            "text/plain": [
              "1.4142135623730951"
            ]
          },
          "metadata": {},
          "execution_count": 13
        }
      ]
    },
    {
      "cell_type": "code",
      "source": [
        "from PIL import Image\n",
        "import os\n",
        "\n",
        "fig = pyplot.figure(1, (14, 14))\n",
        "\n",
        "k = 0\n",
        "for label in sorted(df.label.unique()):\n",
        "    for j in range(7):\n",
        "        image_number = df[df.label == label].image_id.iloc[k]\n",
        "\n",
        "        # Remove 'train\\' and '.jpg' from image number\n",
        "        image_number = image_number.replace('train\\\\', '').replace('.jpg', '')\n",
        "\n",
        "        image_path = os.path.join(\"/content/train\", str(label), str(image_number) + \".jpg\")\n",
        "\n",
        "        # Load image using PIL (Python Imaging Library)\n",
        "        try:\n",
        "            img = Image.open(image_path)\n",
        "        except FileNotFoundError:\n",
        "            print(\"Image not found:\", image_path)\n",
        "            continue\n",
        "\n",
        "        # Resize image to (48, 48)\n",
        "        img = img.resize((48, 48))\n",
        "\n",
        "        # Convert image to grayscale\n",
        "        img = img.convert('L')\n",
        "\n",
        "        # Convert image to numpy array\n",
        "        px = np.array(img).astype('float32')\n",
        "\n",
        "        k += 1\n",
        "        ax = pyplot.subplot(7, 7, k)\n",
        "        ax.imshow(px, cmap='gray')\n",
        "        ax.set_xticks([])\n",
        "        ax.set_yticks([])\n",
        "        ax.set_title(emotion_label_to_text[label])\n",
        "        pyplot.tight_layout()\n",
        "\n"
      ],
      "metadata": {
        "execution": {
          "iopub.status.busy": "2024-01-27T17:23:39.866130Z",
          "iopub.execute_input": "2024-01-27T17:23:39.866359Z",
          "iopub.status.idle": "2024-01-27T17:23:48.576475Z",
          "shell.execute_reply.started": "2024-01-27T17:23:39.866334Z",
          "shell.execute_reply": "2024-01-27T17:23:48.575583Z"
        },
        "trusted": true,
        "colab": {
          "base_uri": "https://localhost:8080/",
          "height": 340
        },
        "id": "r_PRCDqMCLlM",
        "outputId": "b02bad2f-17d7-4aba-ce22-b897c635f464"
      },
      "execution_count": null,
      "outputs": [
        {
          "output_type": "display_data",
          "data": {
            "text/plain": [
              "<Figure size 1400x1400 with 14 Axes>"
            ],
            "image/png": "[encoded data removed]"
          },
          "metadata": {}
        }
      ]
    },
    {
      "cell_type": "code",
      "source": [
        "INTERESTED_LABELS = [0,1]"
      ],
      "metadata": {
        "execution": {
          "iopub.status.busy": "2024-01-27T17:23:48.577654Z",
          "iopub.execute_input": "2024-01-27T17:23:48.577865Z",
          "iopub.status.idle": "2024-01-27T17:23:48.581432Z",
          "shell.execute_reply.started": "2024-01-27T17:23:48.577840Z",
          "shell.execute_reply": "2024-01-27T17:23:48.580755Z"
        },
        "trusted": true,
        "id": "lwonBc4NCLlN"
      },
      "execution_count": null,
      "outputs": []
    },
    {
      "cell_type": "code",
      "source": [
        "df = df[df.label.isin(INTERESTED_LABELS)]\n",
        "df.shape"
      ],
      "metadata": {
        "execution": {
          "iopub.status.busy": "2024-01-27T17:23:48.583311Z",
          "iopub.execute_input": "2024-01-27T17:23:48.583590Z",
          "iopub.status.idle": "2024-01-27T17:23:48.598626Z",
          "shell.execute_reply.started": "2024-01-27T17:23:48.583559Z",
          "shell.execute_reply": "2024-01-27T17:23:48.597871Z"
        },
        "trusted": true,
        "colab": {
          "base_uri": "https://localhost:8080/"
        },
        "id": "DJKuBWq0CLlN",
        "outputId": "5b2f6672-8873-4004-add6-59c31590e9fb"
      },
      "execution_count": null,
      "outputs": [
        {
          "output_type": "execute_result",
          "data": {
            "text/plain": [
              "(5242, 2)"
            ]
          },
          "metadata": {},
          "execution_count": 66
        }
      ]
    },
    {
      "cell_type": "markdown",
      "source": [
        "`Now I will make the data compatible for neural networks.`"
      ],
      "metadata": {
        "id": "gYnED9kDCLlN"
      }
    },
    {
      "cell_type": "code",
      "source": [
        "from PIL import Image\n",
        "import os\n",
        "\n",
        "# Define an empty list to store the images\n",
        "img_list = []\n",
        "\n",
        "# Iterate over unique labels\n",
        "for label in sorted(df.label.unique()):\n",
        "    # Iterate for a fixed range (7 in this case)\n",
        "    for j in range(7):\n",
        "        # Get the image number for the current label\n",
        "        image_number = df[df.label == label].image_id.iloc[k]\n",
        "\n",
        "        # Remove 'train\\' and '.jpg' from image number to construct the image path\n",
        "        image_number = image_number.replace('train\\\\', '').replace('.jpg', '')\n",
        "\n",
        "        # Construct the image path\n",
        "        image_path = os.path.join(\"/content/train\", str(label), str(image_number) + \".jpg\")\n",
        "\n",
        "        # Open and preprocess the image\n",
        "        img = Image.open(image_path).convert('L').resize((48, 48))\n",
        "\n",
        "        # Convert the image to numpy array and append it to img_list\n",
        "        img_array = np.array(img).astype('float32').reshape(48, 48, 1)\n",
        "        img_list.append(img_array)\n",
        "\n",
        "# Convert the list of images to a numpy array\n",
        "img_array = np.stack(img_list, axis=0)\n",
        "\n"
      ],
      "metadata": {
        "execution": {
          "iopub.status.busy": "2024-01-27T17:23:48.599863Z",
          "iopub.execute_input": "2024-01-27T17:23:48.600081Z",
          "iopub.status.idle": "2024-01-27T17:24:52.943567Z",
          "shell.execute_reply.started": "2024-01-27T17:23:48.600056Z",
          "shell.execute_reply": "2024-01-27T17:24:52.942694Z"
        },
        "trusted": true,
        "id": "7xt3JoFuCLlN"
      },
      "execution_count": null,
      "outputs": []
    },
    {
      "cell_type": "code",
      "source": [
        "img_array.shape"
      ],
      "metadata": {
        "execution": {
          "iopub.status.busy": "2024-01-27T17:24:52.944962Z",
          "iopub.execute_input": "2024-01-27T17:24:52.945292Z",
          "iopub.status.idle": "2024-01-27T17:24:52.950781Z",
          "shell.execute_reply.started": "2024-01-27T17:24:52.945254Z",
          "shell.execute_reply": "2024-01-27T17:24:52.949845Z"
        },
        "trusted": true,
        "colab": {
          "base_uri": "https://localhost:8080/"
        },
        "id": "WM7ZQgp3CLlO",
        "outputId": "dd6d53c5-244d-4c47-e33c-43580c2774c5"
      },
      "execution_count": null,
      "outputs": [
        {
          "output_type": "execute_result",
          "data": {
            "text/plain": [
              "(14, 48, 48, 1)"
            ]
          },
          "metadata": {},
          "execution_count": 68
        }
      ]
    },
    {
      "cell_type": "code",
      "source": [
        "from tensorflow.keras.utils import to_categorical\n",
        "le = LabelEncoder()\n",
        "img_labels = le.fit_transform(df.label)\n",
        "img_labels = to_categorical(img_labels)\n",
        "img_labels.shape"
      ],
      "metadata": {
        "execution": {
          "iopub.status.busy": "2024-01-27T17:24:52.952144Z",
          "iopub.execute_input": "2024-01-27T17:24:52.952500Z",
          "iopub.status.idle": "2024-01-27T17:24:52.964998Z",
          "shell.execute_reply.started": "2024-01-27T17:24:52.952415Z",
          "shell.execute_reply": "2024-01-27T17:24:52.964219Z"
        },
        "trusted": true,
        "colab": {
          "base_uri": "https://localhost:8080/"
        },
        "id": "O0yFts1TCLlO",
        "outputId": "abf2ee3c-2e3f-443a-cad0-f40053186066"
      },
      "execution_count": null,
      "outputs": [
        {
          "output_type": "execute_result",
          "data": {
            "text/plain": [
              "(5242, 2)"
            ]
          },
          "metadata": {},
          "execution_count": 69
        }
      ]
    },
    {
      "cell_type": "code",
      "source": [
        "le_name_mapping = dict(zip(le.classes_, le.transform(le.classes_)))\n",
        "print(le_name_mapping)"
      ],
      "metadata": {
        "execution": {
          "iopub.status.busy": "2024-01-27T17:24:52.966305Z",
          "iopub.execute_input": "2024-01-27T17:24:52.966604Z",
          "iopub.status.idle": "2024-01-27T17:24:52.973254Z",
          "shell.execute_reply.started": "2024-01-27T17:24:52.966566Z",
          "shell.execute_reply": "2024-01-27T17:24:52.972608Z"
        },
        "trusted": true,
        "colab": {
          "base_uri": "https://localhost:8080/"
        },
        "id": "VU98oMIfCLlO",
        "outputId": "7095d499-d6d5-4f25-cc21-fda02bfca259"
      },
      "execution_count": null,
      "outputs": [
        {
          "output_type": "stream",
          "name": "stdout",
          "text": [
            "{0: 0, 1: 1}\n"
          ]
        }
      ]
    },
    {
      "cell_type": "markdown",
      "source": [
        "`Splitting the data into training and validation set.`"
      ],
      "metadata": {
        "id": "fhWpOnZ6CLlO"
      }
    },
    {
      "cell_type": "code",
      "source": [
        "from sklearn.model_selection import train_test_split\n",
        "\n",
        "# Split the DataFrame into train and validation sets\n",
        "X_train_df, X_valid_df, y_train_df, y_valid_df = train_test_split(df['image_id'], df['label'],\n",
        "                                                                  shuffle=True, stratify=df['label'],\n",
        "                                                                  test_size=0.1, random_state=42)\n",
        "\n",
        "# Load and preprocess images for training set\n",
        "X_train = []\n",
        "for image_id, label in zip(X_train_df, y_train_df):\n",
        "    image_path = os.path.join(\"/content/train\", str(label), str(image_id).replace('train\\\\', '') )\n",
        "    img = Image.open(image_path).convert('L').resize((48, 48))\n",
        "    img_array = np.array(img).astype('float32').reshape(48, 48, 1)\n",
        "    X_train.append(img_array)\n",
        "X_train = np.array(X_train)\n",
        "\n",
        "# Load and preprocess images for validation set\n",
        "X_valid = []\n",
        "for image_id, label in zip(X_valid_df, y_valid_df):\n",
        "    image_path = os.path.join(\"/content/train\", str(label), str(image_id).replace('train\\\\', '') )\n",
        "    img = Image.open(image_path).convert('L').resize((48, 48))\n",
        "    img_array = np.array(img).astype('float32').reshape(48, 48, 1)\n",
        "    X_valid.append(img_array)\n",
        "X_valid = np.array(X_valid)\n",
        "\n",
        "# Now you have X_train and X_valid as arrays of images\n"
      ],
      "metadata": {
        "execution": {
          "iopub.status.busy": "2024-01-27T17:24:52.974605Z",
          "iopub.execute_input": "2024-01-27T17:24:52.974889Z",
          "iopub.status.idle": "2024-01-27T17:24:53.335861Z",
          "shell.execute_reply.started": "2024-01-27T17:24:52.974854Z",
          "shell.execute_reply": "2024-01-27T17:24:53.335098Z"
        },
        "trusted": true,
        "id": "tMqMP8TQCLlO"
      },
      "execution_count": null,
      "outputs": []
    },
    {
      "cell_type": "code",
      "source": [
        "del df\n",
        "del img_array\n",
        "del img_labels"
      ],
      "metadata": {
        "execution": {
          "iopub.status.busy": "2024-01-27T17:24:53.337140Z",
          "iopub.execute_input": "2024-01-27T17:24:53.337382Z",
          "iopub.status.idle": "2024-01-27T17:24:53.343090Z",
          "shell.execute_reply.started": "2024-01-27T17:24:53.337355Z",
          "shell.execute_reply": "2024-01-27T17:24:53.342267Z"
        },
        "trusted": true,
        "id": "WE_qP_LoCLlP"
      },
      "execution_count": null,
      "outputs": []
    },
    {
      "cell_type": "code",
      "source": [
        "img_width = X_train.shape[1]\n",
        "img_height = X_train.shape[2]\n",
        "img_depth = X_train.shape[3]"
      ],
      "metadata": {
        "execution": {
          "iopub.status.busy": "2024-01-27T17:24:53.344168Z",
          "iopub.execute_input": "2024-01-27T17:24:53.344372Z",
          "iopub.status.idle": "2024-01-27T17:24:53.353964Z",
          "shell.execute_reply.started": "2024-01-27T17:24:53.344348Z",
          "shell.execute_reply": "2024-01-27T17:24:53.353319Z"
        },
        "trusted": true,
        "id": "TZ2dfGA8CLlP"
      },
      "execution_count": null,
      "outputs": []
    },
    {
      "cell_type": "code",
      "source": [
        "# Normalizing results, as neural networks are very sensitive to unnormalized data.\n",
        "X_train = X_train / 255.\n",
        "X_valid = X_valid / 255."
      ],
      "metadata": {
        "execution": {
          "iopub.status.busy": "2024-01-27T17:24:53.355004Z",
          "iopub.execute_input": "2024-01-27T17:24:53.355232Z",
          "iopub.status.idle": "2024-01-27T17:24:53.442811Z",
          "shell.execute_reply.started": "2024-01-27T17:24:53.355205Z",
          "shell.execute_reply": "2024-01-27T17:24:53.442166Z"
        },
        "trusted": true,
        "id": "D4bGj-9ICLlP"
      },
      "execution_count": null,
      "outputs": []
    },
    {
      "cell_type": "code",
      "source": [
        "from sklearn.linear_model import LogisticRegression\n",
        "from sklearn.metrics import accuracy_score\n",
        "\n",
        "# Flatten the images\n",
        "X_train_flat = X_train.reshape(X_train.shape[0], -1)\n",
        "X_test_flat = X_valid.reshape(X_valid.shape[0], -1)\n",
        "\n",
        "# Initialize the logistic regression model\n",
        "logistic_model = LogisticRegression(max_iter=500)\n",
        "\n",
        "# Train the model\n",
        "logistic_model.fit(X_train_flat, y_train_df)\n",
        "\n",
        "# Make predictions\n",
        "y_pred = LogisticRegression.predict(X_test_flat)\n",
        "\n",
        "# Calculate accuracy\n",
        "accuracy = accuracy_score(y_valid_df, y_pred)\n",
        "print(\"Accuracy:\", accuracy)"
      ],
      "metadata": {
        "colab": {
          "base_uri": "https://localhost:8080/"
        },
        "id": "SpDE693HTDgu",
        "outputId": "bf6b564b-4508-4364-b982-7e7a487de5b8"
      },
      "execution_count": null,
      "outputs": [
        {
          "output_type": "stream",
          "name": "stdout",
          "text": [
            "Accuracy: 0.8895238095238095\n"
          ]
        }
      ]
    },
    {
      "cell_type": "code",
      "source": [
        "from sklearn.ensemble import RandomForestClassifier\n",
        "from sklearn.metrics import accuracy_score\n",
        "\n",
        "# Flatten the images\n",
        "X_train_flat = X_train.reshape(X_train.shape[0], -1)\n",
        "X_test_flat = X_valid.reshape(X_valid.shape[0], -1)\n",
        "\n",
        "# Initialize the RandomForestClassifier model\n",
        "rf_model = RandomForestClassifier()\n",
        "\n",
        "# Train the model\n",
        "rf_model.fit(X_train_flat, y_train_df)\n",
        "\n",
        "# Make predictions\n",
        "y_pred = rf_model.predict(X_test_flat)\n",
        "\n",
        "# Calculate accuracy\n",
        "accuracy = accuracy_score(y_valid_df, y_pred)\n",
        "print(\"Accuracy:\", accuracy)\n"
      ],
      "metadata": {
        "colab": {
          "base_uri": "https://localhost:8080/"
        },
        "id": "7JWRPEXGVAXg",
        "outputId": "e1c4474d-d4dd-49c1-80fe-2377adb7c3ed"
      },
      "execution_count": null,
      "outputs": [
        {
          "output_type": "stream",
          "name": "stdout",
          "text": [
            "Accuracy: 0.9352380952380952\n"
          ]
        }
      ]
    },
    {
      "cell_type": "code",
      "source": [
        "from sklearn.svm import SVC\n",
        "from sklearn.metrics import accuracy_score\n",
        "\n",
        "# Flatten the images\n",
        "X_train_flat = X_train.reshape(X_train.shape[0], -1)\n",
        "X_test_flat = X_valid.reshape(X_valid.shape[0], -1)\n",
        "\n",
        "# Initialize the SVM model\n",
        "svm_model = SVC()\n",
        "\n",
        "# Train the model\n",
        "svm_model.fit(X_train_flat, y_train_df)\n",
        "\n",
        "# Make predictions\n",
        "y_pred = svm_model.predict(X_test_flat)\n",
        "\n",
        "# Calculate accuracy\n",
        "accuracy = accuracy_score(y_valid_df, y_pred)\n",
        "print(\"Accuracy:\", accuracy)"
      ],
      "metadata": {
        "colab": {
          "base_uri": "https://localhost:8080/"
        },
        "id": "uNCquEwDVs8m",
        "outputId": "f63ef18c-c4ae-4d6d-8a84-e45586eef9bc"
      },
      "execution_count": null,
      "outputs": [
        {
          "output_type": "stream",
          "name": "stdout",
          "text": [
            "Accuracy: 0.9314285714285714\n"
          ]
        }
      ]
    },
    {
      "cell_type": "code",
      "source": [
        "import cv2\n",
        "import numpy as np\n",
        "\n",
        "# Load and preprocess the image\n",
        "image_path = \"/content/Yawning-1024x731.jpg\"\n",
        "image = cv2.imread(image_path, cv2.IMREAD_GRAYSCALE)  # Load the image in grayscale\n",
        "resized_image = cv2.resize(image, (48, 48))  # Resize the image to match the model input size\n",
        "flattened_image = resized_image.flatten().reshape(1, -1)  # Flatten and reshape the image\n",
        "\n",
        "# Make prediction using the logistic regression model\n",
        "predicted_class = logistic_model.predict(flattened_image)\n",
        "# Make prediction using the randomforest regression model\n",
        "predicted_class_rf = rf_model.predict(flattened_image)\n",
        "# Make prediction using the svm model\n",
        "predicted_class_svm = svm_model.predict(flattened_image)\n",
        "\n",
        "# Print the predicted class\n",
        "print(\"Predicted Class:\", predicted_class)\n",
        "print(\"Predicted Class:\", predicted_class_rf)\n",
        "print(\"Predicted Class:\", predicted_class_svm)"
      ],
      "metadata": {
        "colab": {
          "base_uri": "https://localhost:8080/"
        },
        "id": "5D4Q2zedT8-E",
        "outputId": "3137ff6b-f622-4842-f3d3-f1f940285ed2"
      },
      "execution_count": null,
      "outputs": [
        {
          "output_type": "stream",
          "name": "stdout",
          "text": [
            "Predicted Class: [1]\n",
            "Predicted Class: [1]\n",
            "Predicted Class: [1]\n"
          ]
        }
      ]
    },
    {
      "cell_type": "code",
      "source": [
        "import pickle\n",
        "\n",
        "# Save the model to a file\n",
        "with open('logistic_model.pkl', 'wb') as f:\n",
        "    pickle.dump(logistic_model, f)"
      ],
      "metadata": {
        "id": "nJdJCek1XDI-"
      },
      "execution_count": null,
      "outputs": []
    },
    {
      "cell_type": "code",
      "source": [
        "def build_net(optim):\n",
        "    \"\"\"\n",
        "    This is a Deep Convolutional Neural Network (DCNN). For generalization purpose I used dropouts in regular intervals.\n",
        "    I used `ELU` as the activation because it avoids dying relu problem but also performed well as compared to LeakyRelu\n",
        "    atleast in this case. `he_normal` kernel initializer is used as it suits ELU. BatchNormalization is also used for better\n",
        "    results.\n",
        "    \"\"\"\n",
        "    net = Sequential(name='DCNN')\n",
        "\n",
        "    net.add(\n",
        "        Conv2D(\n",
        "            filters=64,\n",
        "            kernel_size=(5,5),\n",
        "            input_shape=(img_width, img_height, img_depth),\n",
        "            activation='elu',\n",
        "            padding='same',\n",
        "            kernel_initializer='he_normal',\n",
        "            name='conv2d_1'\n",
        "        )\n",
        "    )\n",
        "    net.add(BatchNormalization(name='batchnorm_1'))\n",
        "    net.add(\n",
        "        Conv2D(\n",
        "            filters=64,\n",
        "            kernel_size=(5,5),\n",
        "            activation='elu',\n",
        "            padding='same',\n",
        "            kernel_initializer='he_normal',\n",
        "            name='conv2d_2'\n",
        "        )\n",
        "    )\n",
        "    net.add(BatchNormalization(name='batchnorm_2'))\n",
        "\n",
        "    net.add(MaxPooling2D(pool_size=(2,2), name='maxpool2d_1'))\n",
        "    net.add(Dropout(0.4, name='dropout_1'))\n",
        "\n",
        "    net.add(\n",
        "        Conv2D(\n",
        "            filters=128,\n",
        "            kernel_size=(3,3),\n",
        "            activation='elu',\n",
        "            padding='same',\n",
        "            kernel_initializer='he_normal',\n",
        "            name='conv2d_3'\n",
        "        )\n",
        "    )\n",
        "    net.add(BatchNormalization(name='batchnorm_3'))\n",
        "    net.add(\n",
        "        Conv2D(\n",
        "            filters=128,\n",
        "            kernel_size=(3,3),\n",
        "            activation='elu',\n",
        "            padding='same',\n",
        "            kernel_initializer='he_normal',\n",
        "            name='conv2d_4'\n",
        "        )\n",
        "    )\n",
        "    net.add(BatchNormalization(name='batchnorm_4'))\n",
        "\n",
        "    net.add(MaxPooling2D(pool_size=(2,2), name='maxpool2d_2'))\n",
        "    net.add(Dropout(0.4, name='dropout_2'))\n",
        "\n",
        "    net.add(\n",
        "        Conv2D(\n",
        "            filters=256,\n",
        "            kernel_size=(3,3),\n",
        "            activation='elu',\n",
        "            padding='same',\n",
        "            kernel_initializer='he_normal',\n",
        "            name='conv2d_5'\n",
        "        )\n",
        "    )\n",
        "    net.add(BatchNormalization(name='batchnorm_5'))\n",
        "    net.add(\n",
        "        Conv2D(\n",
        "            filters=256,\n",
        "            kernel_size=(3,3),\n",
        "            activation='elu',\n",
        "            padding='same',\n",
        "            kernel_initializer='he_normal',\n",
        "            name='conv2d_6'\n",
        "        )\n",
        "    )\n",
        "    net.add(BatchNormalization(name='batchnorm_6'))\n",
        "\n",
        "    net.add(MaxPooling2D(pool_size=(2,2), name='maxpool2d_3'))\n",
        "    net.add(Dropout(0.5, name='dropout_3'))\n",
        "\n",
        "    net.add(Flatten(name='flatten'))\n",
        "\n",
        "    net.add(\n",
        "        Dense(\n",
        "            128,\n",
        "            activation='elu',\n",
        "            kernel_initializer='he_normal',\n",
        "            name='dense_1'\n",
        "        )\n",
        "    )\n",
        "    net.add(BatchNormalization(name='batchnorm_7'))\n",
        "\n",
        "    net.add(Dropout(0.6, name='dropout_4'))\n",
        "\n",
        "    net.add(\n",
        "        Dense(\n",
        "            1,\n",
        "            activation='sigmoid',\n",
        "            name='out_layer'\n",
        "        )\n",
        "    )\n",
        "\n",
        "    net.compile(\n",
        "        loss='binary_crossentropy',\n",
        "        optimizer=optim,\n",
        "        metrics=['accuracy']\n",
        "    )\n",
        "\n",
        "    net.summary()\n",
        "\n",
        "    return net"
      ],
      "metadata": {
        "execution": {
          "iopub.status.busy": "2024-01-27T17:24:53.444016Z",
          "iopub.execute_input": "2024-01-27T17:24:53.444243Z",
          "iopub.status.idle": "2024-01-27T17:24:53.467116Z",
          "shell.execute_reply.started": "2024-01-27T17:24:53.444218Z",
          "shell.execute_reply": "2024-01-27T17:24:53.466191Z"
        },
        "trusted": true,
        "id": "n3nOdfpkCLlP"
      },
      "execution_count": null,
      "outputs": []
    },
    {
      "cell_type": "code",
      "source": [
        "\"\"\"\n",
        "I used two callbacks one is `early stopping` for avoiding overfitting training data\n",
        "and other `ReduceLROnPlateau` for learning rate.\n",
        "\"\"\"\n",
        "\n",
        "early_stopping = EarlyStopping(\n",
        "    monitor='val_accuracy',\n",
        "    min_delta=0.00005,\n",
        "    patience=11,\n",
        "    verbose=1,\n",
        "    restore_best_weights=True,\n",
        ")\n",
        "\n",
        "lr_scheduler = ReduceLROnPlateau(\n",
        "    monitor='val_accuracy',\n",
        "    factor=0.5,\n",
        "    patience=7,\n",
        "    min_lr=1e-7,\n",
        "    verbose=1,\n",
        ")\n",
        "\n",
        "callbacks = [\n",
        "    early_stopping,\n",
        "    lr_scheduler,\n",
        "]"
      ],
      "metadata": {
        "execution": {
          "iopub.status.busy": "2024-01-27T17:24:53.468236Z",
          "iopub.execute_input": "2024-01-27T17:24:53.468457Z",
          "iopub.status.idle": "2024-01-27T17:24:53.479897Z",
          "shell.execute_reply.started": "2024-01-27T17:24:53.468432Z",
          "shell.execute_reply": "2024-01-27T17:24:53.479253Z"
        },
        "trusted": true,
        "id": "PBNKqVr6CLlP"
      },
      "execution_count": null,
      "outputs": []
    },
    {
      "cell_type": "code",
      "source": [
        "# As the data in hand is less as compared to the task so ImageDataGenerator is good to go.\n",
        "train_datagen = ImageDataGenerator(\n",
        "    rotation_range=15,\n",
        "    width_shift_range=0.15,\n",
        "    height_shift_range=0.15,\n",
        "    shear_range=0.15,\n",
        "    zoom_range=0.15,\n",
        "    horizontal_flip=True,\n",
        ")\n",
        "train_datagen.fit(X_train)"
      ],
      "metadata": {
        "execution": {
          "iopub.status.busy": "2024-01-27T17:24:53.481188Z",
          "iopub.execute_input": "2024-01-27T17:24:53.481404Z",
          "iopub.status.idle": "2024-01-27T17:24:53.538515Z",
          "shell.execute_reply.started": "2024-01-27T17:24:53.481380Z",
          "shell.execute_reply": "2024-01-27T17:24:53.537783Z"
        },
        "trusted": true,
        "id": "zAr8QqH2CLlP"
      },
      "execution_count": null,
      "outputs": []
    },
    {
      "cell_type": "code",
      "source": [
        "batch_size = 32 #batch size of 32 performs the best.\n",
        "epochs = 100\n",
        "optims = [\n",
        "    optimizers.Nadam(learning_rate=0.001, beta_1=0.9, beta_2=0.999, epsilon=1e-07, name='Nadam'),\n",
        "    optimizers.Adam(0.001),\n",
        "]\n",
        "\n",
        "# I tried both `Nadam` and `Adam`, the difference in results is not different but I finally went with Nadam as it is more popular.\n",
        "model = build_net(optims[1])\n",
        "history = model.fit_generator(\n",
        "    train_datagen.flow(X_train, y_train_df, batch_size=batch_size),\n",
        "    validation_data=(X_valid, y_valid_df),\n",
        "    steps_per_epoch=len(X_train) / batch_size,\n",
        "    epochs=epochs,\n",
        "    callbacks=callbacks,\n",
        "    use_multiprocessing=True\n",
        ")"
      ],
      "metadata": {
        "execution": {
          "iopub.status.busy": "2024-01-27T17:24:53.539760Z",
          "iopub.execute_input": "2024-01-27T17:24:53.539986Z",
          "iopub.status.idle": "2024-01-27T17:39:55.177013Z",
          "shell.execute_reply.started": "2024-01-27T17:24:53.539961Z",
          "shell.execute_reply": "2024-01-27T17:39:55.175884Z"
        },
        "trusted": true,
        "colab": {
          "base_uri": "https://localhost:8080/"
        },
        "id": "BRnWwcu2CLlP",
        "outputId": "e8b5275a-3d71-41c0-ceb3-2ff76cc301c2"
      },
      "execution_count": null,
      "outputs": [
        {
          "output_type": "stream",
          "name": "stdout",
          "text": [
            "Model: \"DCNN\"\n",
            "_________________________________________________________________\n",
            " Layer (type)                Output Shape              Param #   \n",
            "=================================================================\n",
            " conv2d_1 (Conv2D)           (None, 48, 48, 64)        1664      \n",
            "                                                                 \n",
            " batchnorm_1 (BatchNormaliz  (None, 48, 48, 64)        256       \n",
            " ation)                                                          \n",
            "                                                                 \n",
            " conv2d_2 (Conv2D)           (None, 48, 48, 64)        102464    \n",
            "                                                                 \n",
            " batchnorm_2 (BatchNormaliz  (None, 48, 48, 64)        256       \n",
            " ation)                                                          \n",
            "                                                                 \n",
            " maxpool2d_1 (MaxPooling2D)  (None, 24, 24, 64)        0         \n",
            "                                                                 \n",
            " dropout_1 (Dropout)         (None, 24, 24, 64)        0         \n",
            "                                                                 \n",
            " conv2d_3 (Conv2D)           (None, 24, 24, 128)       73856     \n",
            "                                                                 \n",
            " batchnorm_3 (BatchNormaliz  (None, 24, 24, 128)       512       \n",
            " ation)                                                          \n",
            "                                                                 \n",
            " conv2d_4 (Conv2D)           (None, 24, 24, 128)       147584    \n",
            "                                                                 \n",
            " batchnorm_4 (BatchNormaliz  (None, 24, 24, 128)       512       \n",
            " ation)                                                          \n",
            "                                                                 \n",
            " maxpool2d_2 (MaxPooling2D)  (None, 12, 12, 128)       0         \n",
            "                                                                 \n",
            " dropout_2 (Dropout)         (None, 12, 12, 128)       0         \n",
            "                                                                 \n",
            " conv2d_5 (Conv2D)           (None, 12, 12, 256)       295168    \n",
            "                                                                 \n",
            " batchnorm_5 (BatchNormaliz  (None, 12, 12, 256)       1024      \n",
            " ation)                                                          \n",
            "                                                                 \n",
            " conv2d_6 (Conv2D)           (None, 12, 12, 256)       590080    \n",
            "                                                                 \n",
            " batchnorm_6 (BatchNormaliz  (None, 12, 12, 256)       1024      \n",
            " ation)                                                          \n",
            "                                                                 \n",
            " maxpool2d_3 (MaxPooling2D)  (None, 6, 6, 256)         0         \n",
            "                                                                 \n",
            " dropout_3 (Dropout)         (None, 6, 6, 256)         0         \n",
            "                                                                 \n",
            " flatten (Flatten)           (None, 9216)              0         \n",
            "                                                                 \n",
            " dense_1 (Dense)             (None, 128)               1179776   \n",
            "                                                                 \n",
            " batchnorm_7 (BatchNormaliz  (None, 128)               512       \n",
            " ation)                                                          \n",
            "                                                                 \n",
            " dropout_4 (Dropout)         (None, 128)               0         \n",
            "                                                                 \n",
            " out_layer (Dense)           (None, 1)                 129       \n",
            "                                                                 \n",
            "=================================================================\n",
            "Total params: 2394817 (9.14 MB)\n",
            "Trainable params: 2392769 (9.13 MB)\n",
            "Non-trainable params: 2048 (8.00 KB)\n",
            "_________________________________________________________________\n"
          ]
        },
        {
          "output_type": "stream",
          "name": "stderr",
          "text": [
            "<ipython-input-28-7e66bea8c081>:10: UserWarning: `Model.fit_generator` is deprecated and will be removed in a future version. Please use `Model.fit`, which supports generators.\n",
            "  history = model.fit_generator(\n"
          ]
        },
        {
          "output_type": "stream",
          "name": "stdout",
          "text": [
            "Epoch 1/100\n",
            "147/147 [==============================] - 32s 76ms/step - loss: 0.7819 - accuracy: 0.6305 - val_loss: 0.6361 - val_accuracy: 0.7314 - lr: 0.0010\n",
            "Epoch 2/100\n",
            "147/147 [==============================] - 5s 37ms/step - loss: 0.5566 - accuracy: 0.7428 - val_loss: 0.2998 - val_accuracy: 0.8914 - lr: 0.0010\n",
            "Epoch 3/100\n",
            "147/147 [==============================] - 8s 54ms/step - loss: 0.4341 - accuracy: 0.8098 - val_loss: 0.2449 - val_accuracy: 0.8952 - lr: 0.0010\n",
            "Epoch 4/100\n",
            "147/147 [==============================] - 9s 58ms/step - loss: 0.3453 - accuracy: 0.8512 - val_loss: 0.1827 - val_accuracy: 0.9238 - lr: 0.0010\n",
            "Epoch 5/100\n",
            "147/147 [==============================] - 10s 68ms/step - loss: 0.3186 - accuracy: 0.8703 - val_loss: 0.1724 - val_accuracy: 0.9448 - lr: 0.0010\n",
            "Epoch 6/100\n",
            "147/147 [==============================] - 7s 45ms/step - loss: 0.3000 - accuracy: 0.8815 - val_loss: 0.1211 - val_accuracy: 0.9448 - lr: 0.0010\n",
            "Epoch 7/100\n",
            "147/147 [==============================] - 6s 37ms/step - loss: 0.2363 - accuracy: 0.9135 - val_loss: 0.1254 - val_accuracy: 0.9524 - lr: 0.0010\n",
            "Epoch 8/100\n",
            "147/147 [==============================] - 6s 37ms/step - loss: 0.2298 - accuracy: 0.9148 - val_loss: 0.1003 - val_accuracy: 0.9543 - lr: 0.0010\n",
            "Epoch 9/100\n",
            "147/147 [==============================] - 6s 42ms/step - loss: 0.2173 - accuracy: 0.9158 - val_loss: 0.1575 - val_accuracy: 0.9448 - lr: 0.0010\n",
            "Epoch 10/100\n",
            "147/147 [==============================] - 6s 37ms/step - loss: 0.2036 - accuracy: 0.9230 - val_loss: 0.1091 - val_accuracy: 0.9562 - lr: 0.0010\n",
            "Epoch 11/100\n",
            "147/147 [==============================] - 6s 39ms/step - loss: 0.1960 - accuracy: 0.9292 - val_loss: 0.0970 - val_accuracy: 0.9638 - lr: 0.0010\n",
            "Epoch 12/100\n",
            "147/147 [==============================] - 6s 39ms/step - loss: 0.1964 - accuracy: 0.9288 - val_loss: 0.1027 - val_accuracy: 0.9657 - lr: 0.0010\n",
            "Epoch 13/100\n",
            "147/147 [==============================] - 6s 38ms/step - loss: 0.1884 - accuracy: 0.9305 - val_loss: 0.2217 - val_accuracy: 0.9067 - lr: 0.0010\n",
            "Epoch 14/100\n",
            "147/147 [==============================] - 5s 35ms/step - loss: 0.1718 - accuracy: 0.9400 - val_loss: 0.1135 - val_accuracy: 0.9486 - lr: 0.0010\n",
            "Epoch 15/100\n",
            "147/147 [==============================] - 5s 35ms/step - loss: 0.1821 - accuracy: 0.9334 - val_loss: 0.1059 - val_accuracy: 0.9524 - lr: 0.0010\n",
            "Epoch 16/100\n",
            "147/147 [==============================] - 5s 33ms/step - loss: 0.1632 - accuracy: 0.9379 - val_loss: 0.1128 - val_accuracy: 0.9505 - lr: 0.0010\n",
            "Epoch 17/100\n",
            "147/147 [==============================] - 6s 40ms/step - loss: 0.1577 - accuracy: 0.9434 - val_loss: 0.1068 - val_accuracy: 0.9562 - lr: 0.0010\n",
            "Epoch 18/100\n",
            "147/147 [==============================] - 5s 33ms/step - loss: 0.1716 - accuracy: 0.9379 - val_loss: 0.1623 - val_accuracy: 0.9352 - lr: 0.0010\n",
            "Epoch 19/100\n",
            "148/147 [==============================] - ETA: 0s - loss: 0.1601 - accuracy: 0.9453\n",
            "Epoch 19: ReduceLROnPlateau reducing learning rate to 0.0005000000237487257.\n",
            "147/147 [==============================] - 7s 46ms/step - loss: 0.1601 - accuracy: 0.9453 - val_loss: 0.0962 - val_accuracy: 0.9638 - lr: 0.0010\n",
            "Epoch 20/100\n",
            "147/147 [==============================] - 5s 35ms/step - loss: 0.1518 - accuracy: 0.9436 - val_loss: 0.0845 - val_accuracy: 0.9600 - lr: 5.0000e-04\n",
            "Epoch 21/100\n",
            "147/147 [==============================] - 5s 36ms/step - loss: 0.1488 - accuracy: 0.9447 - val_loss: 0.0808 - val_accuracy: 0.9600 - lr: 5.0000e-04\n",
            "Epoch 22/100\n",
            "147/147 [==============================] - 7s 47ms/step - loss: 0.1411 - accuracy: 0.9455 - val_loss: 0.0844 - val_accuracy: 0.9619 - lr: 5.0000e-04\n",
            "Epoch 23/100\n",
            "148/147 [==============================] - ETA: 0s - loss: 0.1402 - accuracy: 0.9487Restoring model weights from the end of the best epoch: 12.\n",
            "147/147 [==============================] - 5s 34ms/step - loss: 0.1402 - accuracy: 0.9487 - val_loss: 0.1381 - val_accuracy: 0.9505 - lr: 5.0000e-04\n",
            "Epoch 23: early stopping\n"
          ]
        }
      ]
    },
    {
      "cell_type": "code",
      "source": [
        "model.save(\"mode5.h5\")"
      ],
      "metadata": {
        "execution": {
          "iopub.status.busy": "2024-01-27T17:39:55.179587Z",
          "iopub.execute_input": "2024-01-27T17:39:55.179925Z",
          "iopub.status.idle": "2024-01-27T17:39:55.418978Z",
          "shell.execute_reply.started": "2024-01-27T17:39:55.179879Z",
          "shell.execute_reply": "2024-01-27T17:39:55.418244Z"
        },
        "trusted": true,
        "colab": {
          "base_uri": "https://localhost:8080/"
        },
        "id": "3SmECIkgCLlP",
        "outputId": "07f61119-11a9-4d61-fc9c-bf02ff7c90c5"
      },
      "execution_count": null,
      "outputs": [
        {
          "output_type": "stream",
          "name": "stderr",
          "text": [
            "/usr/local/lib/python3.10/dist-packages/keras/src/engine/training.py:3103: UserWarning: You are saving your model as an HDF5 file via `model.save()`. This file format is considered legacy. We recommend using instead the native Keras format, e.g. `model.save('my_model.keras')`.\n",
            "  saving_api.save_model(\n"
          ]
        }
      ]
    },
    {
      "cell_type": "code",
      "source": [
        "sns.set()\n",
        "fig = pyplot.figure(0, (12, 4))\n",
        "\n",
        "ax = pyplot.subplot(1, 2, 1)\n",
        "sns.lineplot(history.epoch, history.history['accuracy'], label='train')\n",
        "sns.lineplot(history.epoch, history.history['val_accuracy'], label='valid')\n",
        "pyplot.title('Accuracy')\n",
        "pyplot.tight_layout()\n",
        "\n",
        "ax = pyplot.subplot(1, 2, 2)\n",
        "sns.lineplot(history.epoch, history.history['loss'], label='train')\n",
        "sns.lineplot(history.epoch, history.history['val_loss'], label='valid')\n",
        "pyplot.title('Loss')\n",
        "pyplot.tight_layout()\n",
        "\n",
        "pyplot.savefig('epoch_history_dcnn.png')\n",
        "pyplot.show()"
      ],
      "metadata": {
        "execution": {
          "iopub.status.busy": "2024-01-27T17:39:55.420433Z",
          "iopub.execute_input": "2024-01-27T17:39:55.420717Z",
          "iopub.status.idle": "2024-01-27T17:39:56.702858Z",
          "shell.execute_reply.started": "2024-01-27T17:39:55.420689Z",
          "shell.execute_reply": "2024-01-27T17:39:56.701938Z"
        },
        "trusted": true,
        "id": "1aWPT5D3CLlQ"
      },
      "execution_count": null,
      "outputs": []
    },
    {
      "cell_type": "markdown",
      "source": [
        "    The epochs history shows that accuracy gradually increases and achieved +83% accuracy on both training and validation set, but at the end the model starts overfitting training data."
      ],
      "metadata": {
        "id": "jULQ-T-LCLlQ"
      }
    },
    {
      "cell_type": "code",
      "source": [
        "df_accu = pd.DataFrame({'train': history.history['accuracy'], 'valid': history.history['val_accuracy']})\n",
        "df_loss = pd.DataFrame({'train': history.history['loss'], 'valid': history.history['val_loss']})\n",
        "\n",
        "fig = pyplot.figure(0, (14, 4))\n",
        "ax = pyplot.subplot(1, 2, 1)\n",
        "sns.violinplot(x=\"variable\", y=\"value\", data=pd.melt(df_accu), showfliers=False)\n",
        "pyplot.title('Accuracy')\n",
        "pyplot.tight_layout()\n",
        "\n",
        "ax = pyplot.subplot(1, 2, 2)\n",
        "sns.violinplot(x=\"variable\", y=\"value\", data=pd.melt(df_loss), showfliers=False)\n",
        "pyplot.title('Loss')\n",
        "pyplot.tight_layout()\n",
        "\n",
        "pyplot.savefig('performance_dist.png')\n",
        "pyplot.show()"
      ],
      "metadata": {
        "execution": {
          "iopub.status.busy": "2024-01-27T17:39:56.704448Z",
          "iopub.execute_input": "2024-01-27T17:39:56.704815Z",
          "iopub.status.idle": "2024-01-27T17:39:57.451506Z",
          "shell.execute_reply.started": "2024-01-27T17:39:56.704773Z",
          "shell.execute_reply": "2024-01-27T17:39:57.450752Z"
        },
        "trusted": true,
        "id": "EQqx-Y_uCLlQ"
      },
      "execution_count": null,
      "outputs": []
    },
    {
      "cell_type": "code",
      "source": [
        "yhat_valid = model.predict_classes(X_valid)\n",
        "scikitplot.metrics.plot_confusion_matrix(np.argmax(y_valid, axis=1), yhat_valid, figsize=(7,7))\n",
        "pyplot.savefig(\"confusion_matrix_dcnn.png\")\n",
        "\n",
        "print(f'total wrong validation predictions: {np.sum(np.argmax(y_valid, axis=1) != yhat_valid)}\\n\\n')\n",
        "print(classification_report(np.argmax(y_valid, axis=1), yhat_valid))"
      ],
      "metadata": {
        "execution": {
          "iopub.status.busy": "2024-01-27T17:39:57.452615Z",
          "iopub.execute_input": "2024-01-27T17:39:57.452830Z",
          "iopub.status.idle": "2024-01-27T17:39:58.530291Z",
          "shell.execute_reply.started": "2024-01-27T17:39:57.452805Z",
          "shell.execute_reply": "2024-01-27T17:39:58.529446Z"
        },
        "trusted": true,
        "id": "DY2MAJVXCLlQ"
      },
      "execution_count": null,
      "outputs": []
    },
    {
      "cell_type": "markdown",
      "source": [
        "The confusion matrix clearly shows that our model is doing good job on the class `happy` but it's performance is low on other two classes. One of the reason for this could be the fact that these two classes have less data. But when I looked at the images I found some images from these two classes are even hard for a human to tell whether the person is sad or neutral. Facial expression depends on individual as well. Some person's neutral face looks like sad."
      ],
      "metadata": {
        "id": "yEQizFsdCLlQ"
      }
    },
    {
      "cell_type": "code",
      "source": [
        "mapper = {\n",
        "    0: \"Yawn\",\n",
        "    1: \"No Yawn\",\n",
        "}"
      ],
      "metadata": {
        "execution": {
          "iopub.status.busy": "2024-01-27T17:40:38.341595Z",
          "iopub.execute_input": "2024-01-27T17:40:38.341886Z",
          "iopub.status.idle": "2024-01-27T17:40:38.346222Z",
          "shell.execute_reply.started": "2024-01-27T17:40:38.341858Z",
          "shell.execute_reply": "2024-01-27T17:40:38.345250Z"
        },
        "trusted": true,
        "id": "IMo9neqMCLlQ"
      },
      "execution_count": null,
      "outputs": []
    },
    {
      "cell_type": "code",
      "source": [
        "np.random.seed(2)\n",
        "random_sad_imgs = np.random.choice(np.where(y_valid_df == 0)[0], size=9)\n",
        "random_neutral_imgs = np.random.choice(np.where(y_valid_df == 1)[0], size=9)\n",
        "\n",
        "fig = pyplot.figure(1, (18, 4))\n",
        "\n",
        "for i, (sadidx, neuidx) in enumerate(zip(random_sad_imgs, random_neutral_imgs)):\n",
        "    ax = pyplot.subplot(2, 9, i+1)\n",
        "    sample_img_sad = X_valid[sadidx, :, :, 0]  # Assuming X_valid contains the images as arrays\n",
        "    ax.imshow(sample_img_sad, cmap='gray')\n",
        "    ax.set_xticks([])\n",
        "    ax.set_yticks([])\n",
        "    # Make prediction for sad image\n",
        "    prediction_sad = model.predict(sample_img_sad.reshape(1, 48, 48, 1))\n",
        "    predicted_class_sad = (prediction_sad > 0.5).astype(\"int32\")  # Use threshold 0.5 for binary classification\n",
        "    ax.set_title(f\"True: Sad, Pred: {predicted_class_sad}\")\n",
        "\n",
        "    ax = pyplot.subplot(2, 9, i+10)\n",
        "    sample_img_neutral = X_valid[neuidx, :, :, 0]  # Assuming X_valid contains the images as arrays\n",
        "    ax.imshow(sample_img_neutral, cmap='gray')\n",
        "    ax.set_xticks([])\n",
        "    ax.set_yticks([])\n",
        "    # Make prediction for neutral image\n",
        "    prediction_neutral = model.predict(sample_img_neutral.reshape(1, 48, 48, 1))\n",
        "    predicted_class_neutral = (prediction_neutral > 0.5).astype(\"int32\")  # Use threshold 0.5 for binary classification\n",
        "    ax.set_title(f\"True: Neutral, Pred: {predicted_class_neutral}\")\n",
        "\n",
        "pyplot.tight_layout()\n"
      ],
      "metadata": {
        "execution": {
          "iopub.status.busy": "2024-01-27T17:40:42.293158Z",
          "iopub.execute_input": "2024-01-27T17:40:42.293432Z",
          "iopub.status.idle": "2024-01-27T17:40:44.878886Z",
          "shell.execute_reply.started": "2024-01-27T17:40:42.293405Z",
          "shell.execute_reply": "2024-01-27T17:40:44.878014Z"
        },
        "trusted": true,
        "colab": {
          "base_uri": "https://localhost:8080/",
          "height": 581
        },
        "id": "NnCGSeJoCLlR",
        "outputId": "48094910-e3b6-46d3-be26-b71916e9a3c7"
      },
      "execution_count": null,
      "outputs": [
        {
          "output_type": "stream",
          "name": "stdout",
          "text": [
            "1/1 [==============================] - 0s 18ms/step\n",
            "1/1 [==============================] - 0s 28ms/step\n",
            "1/1 [==============================] - 0s 29ms/step\n",
            "1/1 [==============================] - 0s 29ms/step\n",
            "1/1 [==============================] - 0s 25ms/step\n",
            "1/1 [==============================] - 0s 33ms/step\n",
            "1/1 [==============================] - 0s 24ms/step\n",
            "1/1 [==============================] - 0s 25ms/step\n",
            "1/1 [==============================] - 0s 28ms/step\n",
            "1/1 [==============================] - 0s 26ms/step\n",
            "1/1 [==============================] - 0s 39ms/step\n",
            "1/1 [==============================] - 0s 53ms/step\n",
            "1/1 [==============================] - 0s 34ms/step\n",
            "1/1 [==============================] - 0s 32ms/step\n",
            "1/1 [==============================] - 0s 59ms/step\n",
            "1/1 [==============================] - 0s 46ms/step\n",
            "1/1 [==============================] - 0s 31ms/step\n",
            "1/1 [==============================] - 0s 91ms/step\n"
          ]
        },
        {
          "output_type": "display_data",
          "data": {
            "text/plain": [
              "<Figure size 1800x400 with 18 Axes>"
            ],
            "image/png": "[encoded data removed]"
          },
          "metadata": {}
        }
      ]
    },
    {
      "cell_type": "code",
      "source": [
        "import cv2\n",
        "import numpy as np\n",
        "import matplotlib.pyplot as plt\n",
        "\n",
        "# Load input images (adjust paths accordingly)\n",
        "sad_image_path = \"/content/yawn.jpeg\"\n",
        "neutral_image_path = \"/content/awake.jpeg\"\n",
        "\n",
        "# Load and preprocess sad image\n",
        "sad_image = cv2.imread(sad_image_path, cv2.IMREAD_GRAYSCALE)  # Load as grayscale\n",
        "sad_image = cv2.resize(sad_image, (48, 48))  # Resize to model input size\n",
        "sad_image = sad_image.astype('float32') / 255.0  # Normalize\n",
        "sad_image = np.expand_dims(sad_image, axis=-1)  # Add channel dimension\n",
        "sad_image = np.expand_dims(sad_image, axis=0)  # Add batch dimension\n",
        "\n",
        "# Load and preprocess neutral image\n",
        "neutral_image = cv2.imread(neutral_image_path, cv2.IMREAD_GRAYSCALE)  # Load as grayscale\n",
        "neutral_image = cv2.resize(neutral_image, (48, 48))  # Resize to model input size\n",
        "neutral_image = neutral_image.astype('float32') / 255.0  # Normalize\n",
        "neutral_image = np.expand_dims(neutral_image, axis=-1)  # Add channel dimension\n",
        "neutral_image = np.expand_dims(neutral_image, axis=0)  # Add batch dimension\n",
        "\n",
        "# Make predictions for sad image\n",
        "prediction_sad = model.predict(sad_image)\n",
        "predicted_class_sad = (prediction_sad > 0.5).astype(\"int32\")  # Use threshold 0.5 for binary classification\n",
        "\n",
        "# Make predictions for neutral image\n",
        "prediction_neutral = model.predict(neutral_image)\n",
        "predicted_class_neutral = (prediction_neutral > 0.5).astype(\"int32\")  # Use threshold 0.5 for binary classification\n",
        "\n",
        "# Visualize sad image and prediction\n",
        "plt.subplot(1, 2, 1)\n",
        "plt.imshow(sad_image[0, :, :, 0], cmap='gray')\n",
        "plt.title(f\"True: Sad, Pred: {predicted_class_sad[0]}\")\n",
        "plt.axis('off')\n",
        "\n",
        "# Visualize neutral image and prediction\n",
        "plt.subplot(1, 2, 2)\n",
        "plt.imshow(neutral_image[0, :, :, 0], cmap='gray')\n",
        "plt.title(f\"True: Neutral, Pred: {predicted_class_neutral[0]}\")\n",
        "plt.axis('off')\n",
        "\n",
        "plt.show()"
      ],
      "metadata": {
        "colab": {
          "base_uri": "https://localhost:8080/",
          "height": 320
        },
        "id": "xMpP0c0qPKRV",
        "outputId": "92156a74-7bac-4cc9-aa65-2d6dca1af452"
      },
      "execution_count": null,
      "outputs": [
        {
          "output_type": "stream",
          "name": "stdout",
          "text": [
            "1/1 [==============================] - 0s 31ms/step\n",
            "1/1 [==============================] - 0s 28ms/step\n"
          ]
        },
        {
          "output_type": "display_data",
          "data": {
            "text/plain": [
              "<Figure size 640x480 with 2 Axes>"
            ],
            "image/png": "[encoded data removed]"
          },
          "metadata": {}
        }
      ]
    },
    {
      "cell_type": "markdown",
      "source": [
        "See in the first row 7th image looks more like neutral rather than sad and our model even predicted it neutral. Whereas the last image in second row is very much sad."
      ],
      "metadata": {
        "id": "RWZTP9cMCLlR"
      }
    },
    {
      "cell_type": "code",
      "source": [],
      "metadata": {
        "trusted": true,
        "id": "QRN_Is-tCLlR"
      },
      "execution_count": null,
      "outputs": []
    }
  ]
}